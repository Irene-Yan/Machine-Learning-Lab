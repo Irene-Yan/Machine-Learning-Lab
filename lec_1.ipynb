{
  "nbformat": 4,
  "nbformat_minor": 0,
  "metadata": {
    "colab": {
      "provenance": []
    },
    "kernelspec": {
      "name": "python3",
      "display_name": "Python 3"
    },
    "language_info": {
      "name": "python"
    }
  },
  "cells": [
    {
      "cell_type": "markdown",
      "source": [
        "Step 1: Import Packages"
      ],
      "metadata": {
        "id": "T0tDR4VjjL3t"
      }
    },
    {
      "cell_type": "code",
      "source": [
        "import pandas as pd\n",
        "from google.colab import drive\n",
        "import matplotlib.pyplot as plt\n",
        "import seaborn as sns"
      ],
      "metadata": {
        "id": "z-m4ZcabjDkz"
      },
      "execution_count": 5,
      "outputs": []
    },
    {
      "cell_type": "markdown",
      "source": [
        "Step 2: Connect to Google Drive"
      ],
      "metadata": {
        "id": "KaKHrqZ8j6rA"
      }
    },
    {
      "cell_type": "code",
      "source": [
        "drive.mount('/content/gdrive', force_remount = True)"
      ],
      "metadata": {
        "colab": {
          "base_uri": "https://localhost:8080/"
        },
        "id": "lztEFMZdj5In",
        "outputId": "32cfe68f-3291-4b3d-e40f-0679124d5a40"
      },
      "execution_count": 2,
      "outputs": [
        {
          "output_type": "stream",
          "name": "stdout",
          "text": [
            "Mounted at /content/gdrive\n"
          ]
        }
      ]
    },
    {
      "cell_type": "markdown",
      "source": [
        "Step 3: Read File"
      ],
      "metadata": {
        "id": "ZamORq0skcqN"
      }
    },
    {
      "cell_type": "code",
      "source": [
        "df = pd.read_csv('/content/gdrive/MyDrive/Machine Learning Lab/Life Expectancy.csv')"
      ],
      "metadata": {
        "id": "qpAZZrumkV-b"
      },
      "execution_count": 3,
      "outputs": []
    },
    {
      "cell_type": "markdown",
      "source": [
        "Step 4: Data cleaning and VIZ"
      ],
      "metadata": {
        "id": "nhNiwHywl3aL"
      }
    },
    {
      "cell_type": "code",
      "source": [
        "sns.boxplot(x = \"Status\", y = \"Life\", data = df)\n",
        "plt.xlabel(\"Country Status\")\n",
        "plt.ylabel(\"Life Span\")\n",
        "plt.title(\"Life Expectancy Analysis\")\n",
        "plt.show()"
      ],
      "metadata": {
        "id": "bj2I_KazluKi",
        "colab": {
          "base_uri": "https://localhost:8080/",
          "height": 295
        },
        "outputId": "8ee26b62-68fa-4080-fab5-644536d04de9"
      },
      "execution_count": 7,
      "outputs": [
        {
          "output_type": "display_data",
          "data": {
            "text/plain": [
              "<Figure size 432x288 with 1 Axes>"
            ],
            "image/png": "[encoded data removed]"
          },
          "metadata": {
            "needs_background": "light"
          }
        }
      ]
    },
    {
      "cell_type": "markdown",
      "source": [
        "The graph above shows that people from developed countries tend to live a longer life than people from developing countries. "
      ],
      "metadata": {
        "id": "AyNz3EqES4Tk"
      }
    }
  ]
}